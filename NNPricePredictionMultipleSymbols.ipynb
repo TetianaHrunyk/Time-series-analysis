{
  "cells": [
    {
      "cell_type": "markdown",
      "metadata": {
        "id": "view-in-github",
        "colab_type": "text"
      },
      "source": [
        "<a href=\"https://colab.research.google.com/github/TetianaHrunyk/Time-series-analysis/blob/main/NNPricePredictionMultipleSymbols.ipynb\" target=\"_parent\"><img src=\"https://colab.research.google.com/assets/colab-badge.svg\" alt=\"Open In Colab\"/></a>"
      ]
    },
    {
      "cell_type": "markdown",
      "source": [
        "# Imports"
      ],
      "metadata": {
        "id": "lNq5iFQ4U816"
      }
    },
    {
      "cell_type": "code",
      "execution_count": null,
      "metadata": {
        "id": "0-hWmwoWQz20"
      },
      "outputs": [],
      "source": [
        "import pandas as pd\n",
        "import matplotlib.pyplot as plt\n",
        "import seaborn as sns\n",
        "import numpy as np\n",
        "from pprint import pprint\n",
        "import os\n",
        "import pickle\n",
        "from sklearn.preprocessing import MinMaxScaler\n",
        "import tensorflow as tf\n",
        "\n",
        "plt.rcParams[\"figure.figsize\"] = (12, 4)\n",
        "sns.set_style(\"whitegrid\")"
      ]
    },
    {
      "cell_type": "code",
      "execution_count": null,
      "metadata": {
        "colab": {
          "base_uri": "https://localhost:8080/"
        },
        "id": "KHJhafvhQ9HZ",
        "outputId": "cc14f482-31cc-4c7d-ac62-1e7e9746afc7"
      },
      "outputs": [
        {
          "output_type": "stream",
          "name": "stdout",
          "text": [
            "Drive already mounted at /content/drive; to attempt to forcibly remount, call drive.mount(\"/content/drive\", force_remount=True).\n"
          ]
        }
      ],
      "source": [
        "from google.colab import drive, files\n",
        "drive.mount('/content/drive')"
      ]
    },
    {
      "cell_type": "markdown",
      "source": [
        "# Constants"
      ],
      "metadata": {
        "id": "GQJGj0uaU_fp"
      }
    },
    {
      "cell_type": "code",
      "source": [
        "PATH = \"drive/MyDrive/Investing and Business/Notebooks/Data\""
      ],
      "metadata": {
        "id": "RxchUTBsVBYQ"
      },
      "execution_count": null,
      "outputs": []
    },
    {
      "cell_type": "code",
      "source": [
        "SCALERS_FILE_NAME = \"scalers.pkl\"\n",
        "CHECKPOINT_FILE_NAME = \"LSTM_ADV_MULT_4FEAT_2Y_1H.ckpt\""
      ],
      "metadata": {
        "id": "3xHAyB7RVKQY"
      },
      "execution_count": null,
      "outputs": []
    },
    {
      "cell_type": "code",
      "execution_count": null,
      "metadata": {
        "id": "uPGVYcthZviA"
      },
      "outputs": [],
      "source": [
        "SEQ_LEN = 25 #@param {type:\"integer\"}\n",
        "BATCH_SIZE = 32 #@param {type:\"integer\"}\n",
        "\n",
        "MAX_EPOCHS = 200 #@param {type:\"integer\"}\n",
        "PATIENCE = 10 #@param {type:\"integer\"}"
      ]
    },
    {
      "cell_type": "code",
      "execution_count": null,
      "metadata": {
        "id": "9zUY02Y99cUQ"
      },
      "outputs": [],
      "source": [
        "input_columns = [\"Open\", \"High\", \"Low\", \"Close\",]# \"WeekDay\", \"Hour\"\n",
        "output_columns = [\"Open\", \"High\", \"Low\", \"Close\"]\n",
        "columns_to_scale = [\"Open\", \"High\", \"Low\", \"Close\"]"
      ]
    },
    {
      "cell_type": "code",
      "execution_count": null,
      "metadata": {
        "id": "RQ6otcsHHwed"
      },
      "outputs": [],
      "source": [
        "data_path = os.path.join(PATH, \"Datasets\", \"yahoo\")\n",
        "checkpoint_path = os.path.join(PATH, \"Checkpoints\", CHECKPOINT_FILE_NAME)\n",
        "scalers_path = os.path.join(PATH, \"Datasets\", SCALERS_FILE_NAME)"
      ]
    },
    {
      "cell_type": "markdown",
      "metadata": {
        "id": "4z_m0jtnStUY"
      },
      "source": [
        "# DATA"
      ]
    },
    {
      "cell_type": "code",
      "source": [
        "days_map = np.linspace(0, 2*np.pi, 5)\n",
        "hours_map = np.linspace(0, 2*np.pi, 24)"
      ],
      "metadata": {
        "id": "a1UF0v1itfkQ"
      },
      "execution_count": null,
      "outputs": []
    },
    {
      "cell_type": "code",
      "execution_count": null,
      "metadata": {
        "id": "pxYjL7RKE6x0"
      },
      "outputs": [],
      "source": [
        "df = {}\n",
        "scalers = {}\n",
        "\n",
        "for file in os.listdir(data_path):\n",
        "  if file.endswith(\".csv\"):\n",
        "    df_tmp = pd.read_csv(os.path.join(data_path, file))\n",
        "    df_tmp[\"Datetime\"] = pd.to_datetime(df_tmp[\"Datetime\"])\n",
        "\n",
        "    df_tmp[\"WeekDay\"] = df_tmp[\"Datetime\"].apply(lambda x: np.sin(days_map[x.weekday()])/2+0.5)\n",
        "    df_tmp[\"Hour\"] = df_tmp[\"Datetime\"].apply(lambda x: np.sin(hours_map[x.hour])/2+0.5)\n",
        "\n",
        "    # df_tmp[\"WeekDay\"] = df_tmp[\"Datetime\"].apply(lambda x: x.weekday())\n",
        "    # df_tmp[\"Hour\"] = df_tmp[\"Datetime\"].apply(lambda x: x.hour)\n",
        "\n",
        "    symbol = file.split(\"_\")[0]\n",
        "\n",
        "    train_idx = int(len(df_tmp) * 0.7)\n",
        "    val_idx = int(len(df_tmp) * 0.9)\n",
        "\n",
        "    train_df = df_tmp.iloc[:train_idx][:]\n",
        "    val_df = df_tmp.iloc[train_idx:val_idx][:]\n",
        "    test_df = df_tmp.iloc[val_idx:][:]\n",
        "\n",
        "    scalers[symbol] = MinMaxScaler()\n",
        "    scaler = scalers[symbol]\n",
        "    scaler.fit(train_df[columns_to_scale])\n",
        "\n",
        "    train_df[columns_to_scale] = scaler.transform(train_df[columns_to_scale])\n",
        "    test_df[columns_to_scale] = scaler.transform(test_df[columns_to_scale])\n",
        "    val_df[columns_to_scale] = scaler.transform(val_df[columns_to_scale])\n",
        "\n",
        "    df[symbol] = {\n",
        "        \"train\": train_df,\n",
        "        \"test\": test_df,\n",
        "        \"val\": val_df\n",
        "    }"
      ]
    },
    {
      "cell_type": "code",
      "source": [
        "# df[\"EURUSD\"][\"test\"][\"Hour\"].iloc[:200].plot()"
      ],
      "metadata": {
        "id": "aM-H_v_6oVQ2"
      },
      "execution_count": null,
      "outputs": []
    },
    {
      "cell_type": "code",
      "source": [
        "symbols = list(df_tmp.keys())"
      ],
      "metadata": {
        "id": "tdVCIRp4HUGL"
      },
      "execution_count": null,
      "outputs": []
    },
    {
      "cell_type": "code",
      "source": [
        "# with open(scalers_path, 'w+') as f:\n",
        "#     scalers = pickle.dump(f)"
      ],
      "metadata": {
        "id": "ZjoK-MwYVYGQ"
      },
      "execution_count": null,
      "outputs": []
    },
    {
      "cell_type": "code",
      "source": [
        "# with open(scalers_path, 'rb') as f:\n",
        "#     scalers = pickle.load(f)"
      ],
      "metadata": {
        "id": "P59CCHjOiW0D"
      },
      "execution_count": null,
      "outputs": []
    },
    {
      "cell_type": "markdown",
      "metadata": {
        "id": "6FpACbK8SyQ_"
      },
      "source": [
        "# DATA SET"
      ]
    },
    {
      "cell_type": "code",
      "execution_count": null,
      "metadata": {
        "id": "YncllwnVY9uw"
      },
      "outputs": [],
      "source": [
        "# kind = test, train, val\n",
        "def make_ds(data, kind, batch_size=BATCH_SIZE):\n",
        "  final_data_set = None\n",
        "  for values in data.values():\n",
        "    data_set = tf.keras.utils.timeseries_dataset_from_array(\n",
        "        data=values[kind][input_columns].iloc[:-SEQ_LEN],\n",
        "        targets=values[kind].iloc[SEQ_LEN:][output_columns],\n",
        "        sequence_length=SEQ_LEN,\n",
        "        sequence_stride=1,\n",
        "        shuffle=True,\n",
        "        batch_size=batch_size)\n",
        "    if not final_data_set:\n",
        "      final_data_set = data_set\n",
        "    else:\n",
        "      final_data_set.concatenate(data_set)\n",
        "  final_data_set.shuffle(buffer_size=len(final_data_set))\n",
        "  return final_data_set"
      ]
    },
    {
      "cell_type": "code",
      "execution_count": null,
      "metadata": {
        "id": "TG6eBEwpaJfe"
      },
      "outputs": [],
      "source": [
        "train_ds = make_ds(df, \"train\")\n",
        "val_ds = make_ds(df, \"val\")\n",
        "test_ds = make_ds(df, \"test\", batch_size=1)"
      ]
    },
    {
      "cell_type": "code",
      "source": [
        "# next(iter(train_ds))"
      ],
      "metadata": {
        "id": "eBoy2jkiS1d8"
      },
      "execution_count": null,
      "outputs": []
    },
    {
      "cell_type": "markdown",
      "metadata": {
        "id": "xEeRN9tod0c0"
      },
      "source": [
        "# Training"
      ]
    },
    {
      "cell_type": "code",
      "execution_count": null,
      "metadata": {
        "id": "2d3LnCCKdzRg"
      },
      "outputs": [],
      "source": [
        "def compile_and_fit(model, train, val, max_epochs, patience=10):\n",
        "  early_stopping = tf.keras.callbacks.EarlyStopping(monitor='val_loss',\n",
        "                                                    patience=patience,\n",
        "                                                    mode='min')\n",
        "  checkpoint = tf.keras.callbacks.ModelCheckpoint(filepath=checkpoint_path,\n",
        "                                                 save_weights_only=True,\n",
        "                                                 verbose=1)\n",
        "\n",
        "  model.compile(loss=tf.keras.losses.MeanSquaredError(),\n",
        "                optimizer=tf.keras.optimizers.Adam(),\n",
        "                metrics=[tf.keras.metrics.MeanAbsoluteError()])\n",
        "\n",
        "  history = model.fit(train, epochs=max_epochs,\n",
        "                      validation_data=val,\n",
        "                      callbacks=[early_stopping, checkpoint])\n",
        "  return history"
      ]
    },
    {
      "cell_type": "code",
      "execution_count": null,
      "metadata": {
        "id": "92BtK9nZbDbE"
      },
      "outputs": [],
      "source": [
        "def plot_history(history):\n",
        "  pd.DataFrame(history.history).plot(legend=True)"
      ]
    },
    {
      "cell_type": "markdown",
      "metadata": {
        "id": "1cE5z5TRenLF"
      },
      "source": [
        "## Model 1"
      ]
    },
    {
      "cell_type": "code",
      "execution_count": null,
      "metadata": {
        "id": "Ts79uy7GeouJ"
      },
      "outputs": [],
      "source": [
        "model = tf.keras.models.Sequential()\n",
        "model.add(tf.keras.layers.LSTM(units=1024, return_sequences=True, input_shape=(SEQ_LEN, len(input_columns))))\n",
        "model.add(tf.keras.layers.Dropout(rate=0.2))\n",
        "model.add(tf.keras.layers.LSTM(units=512, return_sequences=False))\n",
        "model.add(tf.keras.layers.Dropout(rate=0.2))\n",
        "model.add(tf.keras.layers.Dense(units=4))"
      ]
    },
    {
      "cell_type": "code",
      "execution_count": null,
      "metadata": {
        "id": "6921OHWj8OXW"
      },
      "outputs": [],
      "source": [
        "# Redefine model and load weights\n",
        "model.load_weights(checkpoint_path)"
      ]
    },
    {
      "cell_type": "code",
      "execution_count": null,
      "metadata": {
        "id": "obtfuLKHfG8g",
        "colab": {
          "base_uri": "https://localhost:8080/"
        },
        "outputId": "99370ade-e8d2-4d9f-aca0-bfea83504c69"
      },
      "outputs": [
        {
          "output_type": "stream",
          "name": "stdout",
          "text": [
            "Epoch 1/200\n",
            "269/269 [==============================] - ETA: 0s - loss: 0.0028 - mean_absolute_error: 0.0333\n",
            "Epoch 1: saving model to drive/MyDrive/Investing and Business/Notebooks/Data/Checkpoints/LSTM_ADV_MULT_4FEAT_2Y_1H.ckpt\n",
            "269/269 [==============================] - 422s 2s/step - loss: 0.0028 - mean_absolute_error: 0.0333 - val_loss: 2.6182e-04 - val_mean_absolute_error: 0.0134\n",
            "Epoch 2/200\n",
            "269/269 [==============================] - ETA: 0s - loss: 0.0010 - mean_absolute_error: 0.0243\n",
            "Epoch 2: saving model to drive/MyDrive/Investing and Business/Notebooks/Data/Checkpoints/LSTM_ADV_MULT_4FEAT_2Y_1H.ckpt\n",
            "269/269 [==============================] - 429s 2s/step - loss: 0.0010 - mean_absolute_error: 0.0243 - val_loss: 1.0456e-04 - val_mean_absolute_error: 0.0075\n",
            "Epoch 3/200\n",
            "269/269 [==============================] - ETA: 0s - loss: 9.7868e-04 - mean_absolute_error: 0.0239\n",
            "Epoch 3: saving model to drive/MyDrive/Investing and Business/Notebooks/Data/Checkpoints/LSTM_ADV_MULT_4FEAT_2Y_1H.ckpt\n",
            "269/269 [==============================] - 419s 2s/step - loss: 9.7868e-04 - mean_absolute_error: 0.0239 - val_loss: 8.4699e-05 - val_mean_absolute_error: 0.0065\n",
            "Epoch 4/200\n",
            "269/269 [==============================] - ETA: 0s - loss: 8.6532e-04 - mean_absolute_error: 0.0225\n",
            "Epoch 4: saving model to drive/MyDrive/Investing and Business/Notebooks/Data/Checkpoints/LSTM_ADV_MULT_4FEAT_2Y_1H.ckpt\n",
            "269/269 [==============================] - 420s 2s/step - loss: 8.6532e-04 - mean_absolute_error: 0.0225 - val_loss: 1.0705e-04 - val_mean_absolute_error: 0.0081\n",
            "Epoch 5/200\n",
            "269/269 [==============================] - ETA: 0s - loss: 7.0740e-04 - mean_absolute_error: 0.0203\n",
            "Epoch 5: saving model to drive/MyDrive/Investing and Business/Notebooks/Data/Checkpoints/LSTM_ADV_MULT_4FEAT_2Y_1H.ckpt\n",
            "269/269 [==============================] - 421s 2s/step - loss: 7.0740e-04 - mean_absolute_error: 0.0203 - val_loss: 9.0664e-05 - val_mean_absolute_error: 0.0072\n",
            "Epoch 6/200\n",
            "269/269 [==============================] - ETA: 0s - loss: 6.7527e-04 - mean_absolute_error: 0.0200\n",
            "Epoch 6: saving model to drive/MyDrive/Investing and Business/Notebooks/Data/Checkpoints/LSTM_ADV_MULT_4FEAT_2Y_1H.ckpt\n",
            "269/269 [==============================] - 421s 2s/step - loss: 6.7527e-04 - mean_absolute_error: 0.0200 - val_loss: 1.2567e-04 - val_mean_absolute_error: 0.0091\n",
            "Epoch 7/200\n",
            "269/269 [==============================] - ETA: 0s - loss: 5.9594e-04 - mean_absolute_error: 0.0188\n",
            "Epoch 7: saving model to drive/MyDrive/Investing and Business/Notebooks/Data/Checkpoints/LSTM_ADV_MULT_4FEAT_2Y_1H.ckpt\n",
            "269/269 [==============================] - 426s 2s/step - loss: 5.9594e-04 - mean_absolute_error: 0.0188 - val_loss: 6.8856e-05 - val_mean_absolute_error: 0.0060\n",
            "Epoch 8/200\n",
            "269/269 [==============================] - ETA: 0s - loss: 5.2524e-04 - mean_absolute_error: 0.0176\n",
            "Epoch 8: saving model to drive/MyDrive/Investing and Business/Notebooks/Data/Checkpoints/LSTM_ADV_MULT_4FEAT_2Y_1H.ckpt\n",
            "269/269 [==============================] - 417s 2s/step - loss: 5.2524e-04 - mean_absolute_error: 0.0176 - val_loss: 6.1631e-05 - val_mean_absolute_error: 0.0057\n",
            "Epoch 9/200\n",
            "269/269 [==============================] - ETA: 0s - loss: 5.4358e-04 - mean_absolute_error: 0.0180\n",
            "Epoch 9: saving model to drive/MyDrive/Investing and Business/Notebooks/Data/Checkpoints/LSTM_ADV_MULT_4FEAT_2Y_1H.ckpt\n",
            "269/269 [==============================] - 424s 2s/step - loss: 5.4358e-04 - mean_absolute_error: 0.0180 - val_loss: 2.3801e-04 - val_mean_absolute_error: 0.0137\n",
            "Epoch 10/200\n",
            "269/269 [==============================] - ETA: 0s - loss: 5.1656e-04 - mean_absolute_error: 0.0175\n",
            "Epoch 10: saving model to drive/MyDrive/Investing and Business/Notebooks/Data/Checkpoints/LSTM_ADV_MULT_4FEAT_2Y_1H.ckpt\n",
            "269/269 [==============================] - 435s 2s/step - loss: 5.1656e-04 - mean_absolute_error: 0.0175 - val_loss: 5.5546e-05 - val_mean_absolute_error: 0.0053\n",
            "Epoch 11/200\n",
            "269/269 [==============================] - ETA: 0s - loss: 5.0623e-04 - mean_absolute_error: 0.0173\n",
            "Epoch 11: saving model to drive/MyDrive/Investing and Business/Notebooks/Data/Checkpoints/LSTM_ADV_MULT_4FEAT_2Y_1H.ckpt\n",
            "269/269 [==============================] - 439s 2s/step - loss: 5.0623e-04 - mean_absolute_error: 0.0173 - val_loss: 1.2906e-04 - val_mean_absolute_error: 0.0096\n",
            "Epoch 12/200\n",
            "269/269 [==============================] - ETA: 0s - loss: 4.4399e-04 - mean_absolute_error: 0.0162\n",
            "Epoch 12: saving model to drive/MyDrive/Investing and Business/Notebooks/Data/Checkpoints/LSTM_ADV_MULT_4FEAT_2Y_1H.ckpt\n",
            "269/269 [==============================] - 432s 2s/step - loss: 4.4399e-04 - mean_absolute_error: 0.0162 - val_loss: 1.1139e-04 - val_mean_absolute_error: 0.0088\n",
            "Epoch 13/200\n",
            "269/269 [==============================] - ETA: 0s - loss: 4.6270e-04 - mean_absolute_error: 0.0166\n",
            "Epoch 13: saving model to drive/MyDrive/Investing and Business/Notebooks/Data/Checkpoints/LSTM_ADV_MULT_4FEAT_2Y_1H.ckpt\n",
            "269/269 [==============================] - 427s 2s/step - loss: 4.6270e-04 - mean_absolute_error: 0.0166 - val_loss: 4.7507e-05 - val_mean_absolute_error: 0.0048\n",
            "Epoch 14/200\n",
            "269/269 [==============================] - ETA: 0s - loss: 3.8824e-04 - mean_absolute_error: 0.0151\n",
            "Epoch 14: saving model to drive/MyDrive/Investing and Business/Notebooks/Data/Checkpoints/LSTM_ADV_MULT_4FEAT_2Y_1H.ckpt\n",
            "269/269 [==============================] - 430s 2s/step - loss: 3.8824e-04 - mean_absolute_error: 0.0151 - val_loss: 1.0041e-04 - val_mean_absolute_error: 0.0084\n",
            "Epoch 15/200\n",
            "269/269 [==============================] - ETA: 0s - loss: 4.6534e-04 - mean_absolute_error: 0.0166\n",
            "Epoch 15: saving model to drive/MyDrive/Investing and Business/Notebooks/Data/Checkpoints/LSTM_ADV_MULT_4FEAT_2Y_1H.ckpt\n",
            "269/269 [==============================] - 425s 2s/step - loss: 4.6534e-04 - mean_absolute_error: 0.0166 - val_loss: 4.3397e-04 - val_mean_absolute_error: 0.0198\n",
            "Epoch 16/200\n",
            "269/269 [==============================] - ETA: 0s - loss: 4.0119e-04 - mean_absolute_error: 0.0155\n",
            "Epoch 16: saving model to drive/MyDrive/Investing and Business/Notebooks/Data/Checkpoints/LSTM_ADV_MULT_4FEAT_2Y_1H.ckpt\n",
            "269/269 [==============================] - 426s 2s/step - loss: 4.0119e-04 - mean_absolute_error: 0.0155 - val_loss: 8.1232e-05 - val_mean_absolute_error: 0.0071\n",
            "Epoch 17/200\n",
            "269/269 [==============================] - ETA: 0s - loss: 3.9259e-04 - mean_absolute_error: 0.0154\n",
            "Epoch 17: saving model to drive/MyDrive/Investing and Business/Notebooks/Data/Checkpoints/LSTM_ADV_MULT_4FEAT_2Y_1H.ckpt\n",
            "269/269 [==============================] - 425s 2s/step - loss: 3.9259e-04 - mean_absolute_error: 0.0154 - val_loss: 6.0622e-05 - val_mean_absolute_error: 0.0059\n",
            "Epoch 18/200\n",
            "269/269 [==============================] - ETA: 0s - loss: 3.8705e-04 - mean_absolute_error: 0.0152\n",
            "Epoch 18: saving model to drive/MyDrive/Investing and Business/Notebooks/Data/Checkpoints/LSTM_ADV_MULT_4FEAT_2Y_1H.ckpt\n",
            "269/269 [==============================] - 431s 2s/step - loss: 3.8705e-04 - mean_absolute_error: 0.0152 - val_loss: 6.1928e-05 - val_mean_absolute_error: 0.0060\n",
            "Epoch 19/200\n",
            "269/269 [==============================] - ETA: 0s - loss: 3.5328e-04 - mean_absolute_error: 0.0146\n",
            "Epoch 19: saving model to drive/MyDrive/Investing and Business/Notebooks/Data/Checkpoints/LSTM_ADV_MULT_4FEAT_2Y_1H.ckpt\n",
            "269/269 [==============================] - 423s 2s/step - loss: 3.5328e-04 - mean_absolute_error: 0.0146 - val_loss: 4.2368e-05 - val_mean_absolute_error: 0.0045\n",
            "Epoch 20/200\n",
            "269/269 [==============================] - ETA: 0s - loss: 3.2255e-04 - mean_absolute_error: 0.0140\n",
            "Epoch 20: saving model to drive/MyDrive/Investing and Business/Notebooks/Data/Checkpoints/LSTM_ADV_MULT_4FEAT_2Y_1H.ckpt\n",
            "269/269 [==============================] - 429s 2s/step - loss: 3.2255e-04 - mean_absolute_error: 0.0140 - val_loss: 1.4323e-04 - val_mean_absolute_error: 0.0105\n",
            "Epoch 21/200\n",
            "269/269 [==============================] - ETA: 0s - loss: 3.2729e-04 - mean_absolute_error: 0.0140\n",
            "Epoch 21: saving model to drive/MyDrive/Investing and Business/Notebooks/Data/Checkpoints/LSTM_ADV_MULT_4FEAT_2Y_1H.ckpt\n",
            "269/269 [==============================] - 437s 2s/step - loss: 3.2729e-04 - mean_absolute_error: 0.0140 - val_loss: 5.3581e-05 - val_mean_absolute_error: 0.0054\n",
            "Epoch 22/200\n",
            "269/269 [==============================] - ETA: 0s - loss: 3.0585e-04 - mean_absolute_error: 0.0136\n",
            "Epoch 22: saving model to drive/MyDrive/Investing and Business/Notebooks/Data/Checkpoints/LSTM_ADV_MULT_4FEAT_2Y_1H.ckpt\n",
            "269/269 [==============================] - 426s 2s/step - loss: 3.0585e-04 - mean_absolute_error: 0.0136 - val_loss: 5.5683e-05 - val_mean_absolute_error: 0.0057\n",
            "Epoch 23/200\n",
            "269/269 [==============================] - ETA: 0s - loss: 3.1008e-04 - mean_absolute_error: 0.0137\n",
            "Epoch 23: saving model to drive/MyDrive/Investing and Business/Notebooks/Data/Checkpoints/LSTM_ADV_MULT_4FEAT_2Y_1H.ckpt\n",
            "269/269 [==============================] - 428s 2s/step - loss: 3.1008e-04 - mean_absolute_error: 0.0137 - val_loss: 3.7195e-05 - val_mean_absolute_error: 0.0043\n",
            "Epoch 24/200\n",
            "269/269 [==============================] - ETA: 0s - loss: 2.9870e-04 - mean_absolute_error: 0.0134\n",
            "Epoch 24: saving model to drive/MyDrive/Investing and Business/Notebooks/Data/Checkpoints/LSTM_ADV_MULT_4FEAT_2Y_1H.ckpt\n",
            "269/269 [==============================] - 433s 2s/step - loss: 2.9870e-04 - mean_absolute_error: 0.0134 - val_loss: 6.2118e-05 - val_mean_absolute_error: 0.0062\n",
            "Epoch 25/200\n",
            "269/269 [==============================] - ETA: 0s - loss: 3.4482e-04 - mean_absolute_error: 0.0144\n",
            "Epoch 25: saving model to drive/MyDrive/Investing and Business/Notebooks/Data/Checkpoints/LSTM_ADV_MULT_4FEAT_2Y_1H.ckpt\n",
            "269/269 [==============================] - 438s 2s/step - loss: 3.4482e-04 - mean_absolute_error: 0.0144 - val_loss: 1.0943e-04 - val_mean_absolute_error: 0.0090\n",
            "Epoch 26/200\n",
            "269/269 [==============================] - ETA: 0s - loss: 3.0856e-04 - mean_absolute_error: 0.0136\n",
            "Epoch 26: saving model to drive/MyDrive/Investing and Business/Notebooks/Data/Checkpoints/LSTM_ADV_MULT_4FEAT_2Y_1H.ckpt\n",
            "269/269 [==============================] - 435s 2s/step - loss: 3.0856e-04 - mean_absolute_error: 0.0136 - val_loss: 3.9827e-05 - val_mean_absolute_error: 0.0045\n",
            "Epoch 27/200\n",
            "269/269 [==============================] - ETA: 0s - loss: 3.2852e-04 - mean_absolute_error: 0.0140\n",
            "Epoch 27: saving model to drive/MyDrive/Investing and Business/Notebooks/Data/Checkpoints/LSTM_ADV_MULT_4FEAT_2Y_1H.ckpt\n",
            "269/269 [==============================] - 427s 2s/step - loss: 3.2852e-04 - mean_absolute_error: 0.0140 - val_loss: 6.3106e-05 - val_mean_absolute_error: 0.0063\n",
            "Epoch 28/200\n",
            "269/269 [==============================] - ETA: 0s - loss: 2.9514e-04 - mean_absolute_error: 0.0133\n",
            "Epoch 28: saving model to drive/MyDrive/Investing and Business/Notebooks/Data/Checkpoints/LSTM_ADV_MULT_4FEAT_2Y_1H.ckpt\n",
            "269/269 [==============================] - 429s 2s/step - loss: 2.9514e-04 - mean_absolute_error: 0.0133 - val_loss: 6.1102e-05 - val_mean_absolute_error: 0.0062\n",
            "Epoch 29/200\n",
            "269/269 [==============================] - ETA: 0s - loss: 2.7140e-04 - mean_absolute_error: 0.0127\n",
            "Epoch 29: saving model to drive/MyDrive/Investing and Business/Notebooks/Data/Checkpoints/LSTM_ADV_MULT_4FEAT_2Y_1H.ckpt\n",
            "269/269 [==============================] - 443s 2s/step - loss: 2.7140e-04 - mean_absolute_error: 0.0127 - val_loss: 4.5102e-05 - val_mean_absolute_error: 0.0049\n",
            "Epoch 30/200\n",
            "269/269 [==============================] - ETA: 0s - loss: 2.9710e-04 - mean_absolute_error: 0.0133\n",
            "Epoch 30: saving model to drive/MyDrive/Investing and Business/Notebooks/Data/Checkpoints/LSTM_ADV_MULT_4FEAT_2Y_1H.ckpt\n",
            "269/269 [==============================] - 438s 2s/step - loss: 2.9710e-04 - mean_absolute_error: 0.0133 - val_loss: 4.6006e-05 - val_mean_absolute_error: 0.0050\n",
            "Epoch 31/200\n",
            "269/269 [==============================] - ETA: 0s - loss: 2.7294e-04 - mean_absolute_error: 0.0128\n",
            "Epoch 31: saving model to drive/MyDrive/Investing and Business/Notebooks/Data/Checkpoints/LSTM_ADV_MULT_4FEAT_2Y_1H.ckpt\n",
            "269/269 [==============================] - 434s 2s/step - loss: 2.7294e-04 - mean_absolute_error: 0.0128 - val_loss: 5.9729e-05 - val_mean_absolute_error: 0.0060\n",
            "Epoch 32/200\n",
            "269/269 [==============================] - ETA: 0s - loss: 2.5072e-04 - mean_absolute_error: 0.0121\n",
            "Epoch 32: saving model to drive/MyDrive/Investing and Business/Notebooks/Data/Checkpoints/LSTM_ADV_MULT_4FEAT_2Y_1H.ckpt\n",
            "269/269 [==============================] - 437s 2s/step - loss: 2.5072e-04 - mean_absolute_error: 0.0121 - val_loss: 3.8692e-05 - val_mean_absolute_error: 0.0044\n",
            "Epoch 33/200\n",
            "269/269 [==============================] - ETA: 0s - loss: 2.6768e-04 - mean_absolute_error: 0.0127\n",
            "Epoch 33: saving model to drive/MyDrive/Investing and Business/Notebooks/Data/Checkpoints/LSTM_ADV_MULT_4FEAT_2Y_1H.ckpt\n",
            "269/269 [==============================] - 482s 2s/step - loss: 2.6768e-04 - mean_absolute_error: 0.0127 - val_loss: 4.4715e-05 - val_mean_absolute_error: 0.0048\n"
          ]
        }
      ],
      "source": [
        "history = compile_and_fit(model, train_ds, val_ds, MAX_EPOCHS, PATIENCE)"
      ]
    },
    {
      "cell_type": "code",
      "execution_count": null,
      "metadata": {
        "id": "b6PPvOPhV6dS"
      },
      "outputs": [],
      "source": [
        "# plot_history(history)"
      ]
    },
    {
      "cell_type": "code",
      "execution_count": null,
      "metadata": {
        "id": "g-vqzt9D7Tu_"
      },
      "outputs": [],
      "source": [
        "# model.save(model_path)"
      ]
    },
    {
      "cell_type": "markdown",
      "metadata": {
        "id": "DlA5qgsQEDb-"
      },
      "source": [
        "# Test performance"
      ]
    },
    {
      "cell_type": "code",
      "execution_count": null,
      "metadata": {
        "id": "9l-xtdOtIbQ1"
      },
      "outputs": [],
      "source": [
        "from sklearn.metrics import mean_absolute_error, mean_squared_error\n",
        "import random"
      ]
    },
    {
      "cell_type": "code",
      "source": [
        "model.evaluate(test_ds)"
      ],
      "metadata": {
        "colab": {
          "base_uri": "https://localhost:8080/",
          "height": 311
        },
        "id": "vtFsHlxgFYjz",
        "outputId": "99948a80-fc7f-463a-bd32-2213854d0009"
      },
      "execution_count": null,
      "outputs": [
        {
          "output_type": "error",
          "ename": "RuntimeError",
          "evalue": "ignored",
          "traceback": [
            "\u001b[0;31m---------------------------------------------------------------------------\u001b[0m",
            "\u001b[0;31mRuntimeError\u001b[0m                              Traceback (most recent call last)",
            "\u001b[0;32m<ipython-input-40-cf7953a05327>\u001b[0m in \u001b[0;36m<cell line: 1>\u001b[0;34m()\u001b[0m\n\u001b[0;32m----> 1\u001b[0;31m \u001b[0mmodel\u001b[0m\u001b[0;34m.\u001b[0m\u001b[0mevaluate\u001b[0m\u001b[0;34m(\u001b[0m\u001b[0mtest_ds\u001b[0m\u001b[0;34m)\u001b[0m\u001b[0;34m\u001b[0m\u001b[0;34m\u001b[0m\u001b[0m\n\u001b[0m",
            "\u001b[0;32m/usr/local/lib/python3.10/dist-packages/keras/utils/traceback_utils.py\u001b[0m in \u001b[0;36merror_handler\u001b[0;34m(*args, **kwargs)\u001b[0m\n\u001b[1;32m     68\u001b[0m             \u001b[0;31m# To get the full stack trace, call:\u001b[0m\u001b[0;34m\u001b[0m\u001b[0;34m\u001b[0m\u001b[0m\n\u001b[1;32m     69\u001b[0m             \u001b[0;31m# `tf.debugging.disable_traceback_filtering()`\u001b[0m\u001b[0;34m\u001b[0m\u001b[0;34m\u001b[0m\u001b[0m\n\u001b[0;32m---> 70\u001b[0;31m             \u001b[0;32mraise\u001b[0m \u001b[0me\u001b[0m\u001b[0;34m.\u001b[0m\u001b[0mwith_traceback\u001b[0m\u001b[0;34m(\u001b[0m\u001b[0mfiltered_tb\u001b[0m\u001b[0;34m)\u001b[0m \u001b[0;32mfrom\u001b[0m \u001b[0;32mNone\u001b[0m\u001b[0;34m\u001b[0m\u001b[0;34m\u001b[0m\u001b[0m\n\u001b[0m\u001b[1;32m     71\u001b[0m         \u001b[0;32mfinally\u001b[0m\u001b[0;34m:\u001b[0m\u001b[0;34m\u001b[0m\u001b[0;34m\u001b[0m\u001b[0m\n\u001b[1;32m     72\u001b[0m             \u001b[0;32mdel\u001b[0m \u001b[0mfiltered_tb\u001b[0m\u001b[0;34m\u001b[0m\u001b[0;34m\u001b[0m\u001b[0m\n",
            "\u001b[0;32m/usr/local/lib/python3.10/dist-packages/keras/engine/training.py\u001b[0m in \u001b[0;36m_assert_compile_was_called\u001b[0;34m(self)\u001b[0m\n\u001b[1;32m   3683\u001b[0m         \u001b[0;31m# (i.e. whether the model is built and its inputs/outputs are set).\u001b[0m\u001b[0;34m\u001b[0m\u001b[0;34m\u001b[0m\u001b[0m\n\u001b[1;32m   3684\u001b[0m         \u001b[0;32mif\u001b[0m \u001b[0;32mnot\u001b[0m \u001b[0mself\u001b[0m\u001b[0;34m.\u001b[0m\u001b[0m_is_compiled\u001b[0m\u001b[0;34m:\u001b[0m\u001b[0;34m\u001b[0m\u001b[0;34m\u001b[0m\u001b[0m\n\u001b[0;32m-> 3685\u001b[0;31m             raise RuntimeError(\n\u001b[0m\u001b[1;32m   3686\u001b[0m                 \u001b[0;34m\"You must compile your model before \"\u001b[0m\u001b[0;34m\u001b[0m\u001b[0;34m\u001b[0m\u001b[0m\n\u001b[1;32m   3687\u001b[0m                 \u001b[0;34m\"training/testing. \"\u001b[0m\u001b[0;34m\u001b[0m\u001b[0;34m\u001b[0m\u001b[0m\n",
            "\u001b[0;31mRuntimeError\u001b[0m: You must compile your model before training/testing. Use `model.compile(optimizer, loss)`."
          ]
        }
      ]
    },
    {
      "cell_type": "code",
      "execution_count": null,
      "metadata": {
        "id": "BT2qih1f73ei"
      },
      "outputs": [],
      "source": [
        "# model = tf.keras.models.load_model(model_path)"
      ]
    },
    {
      "cell_type": "code",
      "execution_count": null,
      "metadata": {
        "id": "mQh-td1zDvAf"
      },
      "outputs": [],
      "source": [
        "def get_eval_metrix(test_ds):\n",
        "  actual = np.concatenate([labels for inputs, labels in test_ds]).squeeze()\n",
        "  predictions = model.predict(test_ds)\n",
        "\n",
        "  errors = {\"MSE\": {}, \"MAE\": {}}\n",
        "  for act_col, pred_col, label in zip(actual.T, predictions.T, columns_to_scale):\n",
        "    mse = mean_squared_error(act_col, pred_col)\n",
        "    mae = mean_absolute_error(act_col, pred_col)\n",
        "    errors[\"MSE\"][label] = mse\n",
        "    errors[\"MAE\"][label] = mae\n",
        "\n",
        "  return pd.DataFrame(errors)"
      ]
    },
    {
      "cell_type": "code",
      "execution_count": null,
      "metadata": {
        "colab": {
          "base_uri": "https://localhost:8080/"
        },
        "id": "262wHGsnYmdA",
        "outputId": "c643519b-8021-415c-cdb3-546dd9a0138a"
      },
      "outputs": [
        {
          "output_type": "stream",
          "name": "stdout",
          "text": [
            "1193/1193 [==============================] - 53s 44ms/step\n"
          ]
        }
      ],
      "source": [
        "eval_metrics = get_eval_metrix(test_ds)"
      ]
    },
    {
      "cell_type": "code",
      "execution_count": null,
      "metadata": {
        "colab": {
          "base_uri": "https://localhost:8080/",
          "height": 175
        },
        "id": "G20YvqDVY27h",
        "outputId": "369aaf77-9cc7-4b4b-e709-a0a29e7250bf"
      },
      "outputs": [
        {
          "output_type": "execute_result",
          "data": {
            "text/plain": [
              "            MSE       MAE\n",
              "Open   0.003959  0.050800\n",
              "High   0.004182  0.052371\n",
              "Low    0.003976  0.050883\n",
              "Close  0.004013  0.051175"
            ],
            "text/html": [
              "\n",
              "  <div id=\"df-b314e9ea-810f-4f1f-8bc9-e2b8f2ed32b2\">\n",
              "    <div class=\"colab-df-container\">\n",
              "      <div>\n",
              "<style scoped>\n",
              "    .dataframe tbody tr th:only-of-type {\n",
              "        vertical-align: middle;\n",
              "    }\n",
              "\n",
              "    .dataframe tbody tr th {\n",
              "        vertical-align: top;\n",
              "    }\n",
              "\n",
              "    .dataframe thead th {\n",
              "        text-align: right;\n",
              "    }\n",
              "</style>\n",
              "<table border=\"1\" class=\"dataframe\">\n",
              "  <thead>\n",
              "    <tr style=\"text-align: right;\">\n",
              "      <th></th>\n",
              "      <th>MSE</th>\n",
              "      <th>MAE</th>\n",
              "    </tr>\n",
              "  </thead>\n",
              "  <tbody>\n",
              "    <tr>\n",
              "      <th>Open</th>\n",
              "      <td>0.003959</td>\n",
              "      <td>0.050800</td>\n",
              "    </tr>\n",
              "    <tr>\n",
              "      <th>High</th>\n",
              "      <td>0.004182</td>\n",
              "      <td>0.052371</td>\n",
              "    </tr>\n",
              "    <tr>\n",
              "      <th>Low</th>\n",
              "      <td>0.003976</td>\n",
              "      <td>0.050883</td>\n",
              "    </tr>\n",
              "    <tr>\n",
              "      <th>Close</th>\n",
              "      <td>0.004013</td>\n",
              "      <td>0.051175</td>\n",
              "    </tr>\n",
              "  </tbody>\n",
              "</table>\n",
              "</div>\n",
              "      <button class=\"colab-df-convert\" onclick=\"convertToInteractive('df-b314e9ea-810f-4f1f-8bc9-e2b8f2ed32b2')\"\n",
              "              title=\"Convert this dataframe to an interactive table.\"\n",
              "              style=\"display:none;\">\n",
              "        \n",
              "  <svg xmlns=\"http://www.w3.org/2000/svg\" height=\"24px\"viewBox=\"0 0 24 24\"\n",
              "       width=\"24px\">\n",
              "    <path d=\"M0 0h24v24H0V0z\" fill=\"none\"/>\n",
              "    <path d=\"M18.56 5.44l.94 2.06.94-2.06 2.06-.94-2.06-.94-.94-2.06-.94 2.06-2.06.94zm-11 1L8.5 8.5l.94-2.06 2.06-.94-2.06-.94L8.5 2.5l-.94 2.06-2.06.94zm10 10l.94 2.06.94-2.06 2.06-.94-2.06-.94-.94-2.06-.94 2.06-2.06.94z\"/><path d=\"M17.41 7.96l-1.37-1.37c-.4-.4-.92-.59-1.43-.59-.52 0-1.04.2-1.43.59L10.3 9.45l-7.72 7.72c-.78.78-.78 2.05 0 2.83L4 21.41c.39.39.9.59 1.41.59.51 0 1.02-.2 1.41-.59l7.78-7.78 2.81-2.81c.8-.78.8-2.07 0-2.86zM5.41 20L4 18.59l7.72-7.72 1.47 1.35L5.41 20z\"/>\n",
              "  </svg>\n",
              "      </button>\n",
              "      \n",
              "  <style>\n",
              "    .colab-df-container {\n",
              "      display:flex;\n",
              "      flex-wrap:wrap;\n",
              "      gap: 12px;\n",
              "    }\n",
              "\n",
              "    .colab-df-convert {\n",
              "      background-color: #E8F0FE;\n",
              "      border: none;\n",
              "      border-radius: 50%;\n",
              "      cursor: pointer;\n",
              "      display: none;\n",
              "      fill: #1967D2;\n",
              "      height: 32px;\n",
              "      padding: 0 0 0 0;\n",
              "      width: 32px;\n",
              "    }\n",
              "\n",
              "    .colab-df-convert:hover {\n",
              "      background-color: #E2EBFA;\n",
              "      box-shadow: 0px 1px 2px rgba(60, 64, 67, 0.3), 0px 1px 3px 1px rgba(60, 64, 67, 0.15);\n",
              "      fill: #174EA6;\n",
              "    }\n",
              "\n",
              "    [theme=dark] .colab-df-convert {\n",
              "      background-color: #3B4455;\n",
              "      fill: #D2E3FC;\n",
              "    }\n",
              "\n",
              "    [theme=dark] .colab-df-convert:hover {\n",
              "      background-color: #434B5C;\n",
              "      box-shadow: 0px 1px 3px 1px rgba(0, 0, 0, 0.15);\n",
              "      filter: drop-shadow(0px 1px 2px rgba(0, 0, 0, 0.3));\n",
              "      fill: #FFFFFF;\n",
              "    }\n",
              "  </style>\n",
              "\n",
              "      <script>\n",
              "        const buttonEl =\n",
              "          document.querySelector('#df-b314e9ea-810f-4f1f-8bc9-e2b8f2ed32b2 button.colab-df-convert');\n",
              "        buttonEl.style.display =\n",
              "          google.colab.kernel.accessAllowed ? 'block' : 'none';\n",
              "\n",
              "        async function convertToInteractive(key) {\n",
              "          const element = document.querySelector('#df-b314e9ea-810f-4f1f-8bc9-e2b8f2ed32b2');\n",
              "          const dataTable =\n",
              "            await google.colab.kernel.invokeFunction('convertToInteractive',\n",
              "                                                     [key], {});\n",
              "          if (!dataTable) return;\n",
              "\n",
              "          const docLinkHtml = 'Like what you see? Visit the ' +\n",
              "            '<a target=\"_blank\" href=https://colab.research.google.com/notebooks/data_table.ipynb>data table notebook</a>'\n",
              "            + ' to learn more about interactive tables.';\n",
              "          element.innerHTML = '';\n",
              "          dataTable['output_type'] = 'display_data';\n",
              "          await google.colab.output.renderOutput(dataTable, element);\n",
              "          const docLink = document.createElement('div');\n",
              "          docLink.innerHTML = docLinkHtml;\n",
              "          element.appendChild(docLink);\n",
              "        }\n",
              "      </script>\n",
              "    </div>\n",
              "  </div>\n",
              "  "
            ]
          },
          "metadata": {},
          "execution_count": 43
        }
      ],
      "source": [
        "eval_metrics"
      ]
    },
    {
      "cell_type": "markdown",
      "metadata": {
        "id": "sTK-G7rH6bIe"
      },
      "source": [
        "# Visualize predictions"
      ]
    },
    {
      "cell_type": "code",
      "source": [
        "import warnings\n",
        "warnings.filterwarnings('ignore')"
      ],
      "metadata": {
        "id": "NhPLGlm6arJ2"
      },
      "execution_count": null,
      "outputs": []
    },
    {
      "cell_type": "code",
      "execution_count": null,
      "metadata": {
        "id": "mQJUsRP3JCh5"
      },
      "outputs": [],
      "source": [
        "def visualize_sample(data, scalers, seq_len, pred_len, symbol=None):\n",
        "  if symbol not in data.keys():\n",
        "    symbol = random.choice(list(data.keys()))\n",
        "  df = data[symbol][\"test\"]\n",
        "  scaler = scalers[symbol]\n",
        "\n",
        "  idx = np.random.randint(0, len(df)-seq_len-pred_len-2)\n",
        "  sample_seq = df.iloc[idx:idx+seq_len+pred_len]\n",
        "\n",
        "  datetime_idx= pd.to_datetime(sample_seq[\"Datetime\"])\n",
        "\n",
        "  inputs = sample_seq.iloc[:seq_len][input_columns]\n",
        "\n",
        "  for i in range(pred_len):\n",
        "    prediction = model(np.expand_dims(inputs.iloc[-seq_len:].values, axis=0))\n",
        "    row = [*list(prediction.numpy().squeeze()), datetime_idx.iloc[-seq_len+i].weekday(), datetime_idx.iloc[-seq_len+i].hour]\n",
        "    inputs.loc[len(inputs.index)] = {key: val for key, val in zip(df.columns[1:], row)}\n",
        "\n",
        "  sample_seq[columns_to_scale] = scaler.inverse_transform(sample_seq[columns_to_scale])\n",
        "  plt.scatter(x=datetime_idx, y=sample_seq.Open, label=\"True data\")\n",
        "\n",
        "  inputs[columns_to_scale] = scaler.inverse_transform(inputs[columns_to_scale])\n",
        "  plt.scatter(x=datetime_idx[-pred_len:], y=inputs.iloc[-pred_len:].Open, color=\"orange\", marker=\"x\", label=\"Prediction\")\n",
        "\n",
        "  plt.title(f\"Prediction on {symbol}\")\n",
        "  plt.legend();"
      ]
    },
    {
      "cell_type": "code",
      "execution_count": null,
      "metadata": {
        "colab": {
          "base_uri": "https://localhost:8080/",
          "height": 391
        },
        "id": "MfufOtBmIlsn",
        "outputId": "583aa066-73b0-4851-8ad6-12c5397fb3ac"
      },
      "outputs": [
        {
          "output_type": "display_data",
          "data": {
            "text/plain": [
              "<Figure size 1200x400 with 1 Axes>"
            ],
            "image/png": "[encoded data removed]"
          },
          "metadata": {}
        }
      ],
      "source": [
        "visualize_sample(df, scalers, SEQ_LEN, 20)"
      ]
    },
    {
      "cell_type": "code",
      "source": [],
      "metadata": {
        "id": "YkbezhIWZnfu"
      },
      "execution_count": null,
      "outputs": []
    }
  ],
  "metadata": {
    "colab": {
      "provenance": [],
      "authorship_tag": "ABX9TyN3PzjDPJu5MG819LrRCaga",
      "include_colab_link": true
    },
    "kernelspec": {
      "display_name": "Python 3",
      "name": "python3"
    },
    "language_info": {
      "name": "python"
    }
  },
  "nbformat": 4,
  "nbformat_minor": 0
}